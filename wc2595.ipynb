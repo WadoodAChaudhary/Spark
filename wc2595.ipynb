{
 "cells": [
  {
   "cell_type": "code",
   "execution_count": 45,
   "metadata": {
    "collapsed": false
   },
   "outputs": [
    {
     "name": "stdout",
     "output_type": "stream",
     "text": [
      "PythonRDD[388] at RDD at PythonRDD.scala:48\n",
      "+-------+---+\n",
      "|     _1| _2|\n",
      "+-------+---+\n",
      "|    Bye|  1|\n",
      "|Goodbye|  1|\n",
      "|  Hello|  2|\n",
      "|  World|  2|\n",
      "| Hadoop|  2|\n",
      "+-------+---+\n",
      "\n"
     ]
    }
   ],
   "source": [
    "import re\n",
    "path = \"/Users/wadood/Library/Mobile Documents/com~apple~CloudDocs/Projects/DataSystems_COMS4121/csds-material/input/\"\n",
    "doc = sc.textFile(\"file:///\"+path)\n",
    "counts = doc.flatMap(lambda line: line.split(\" \")) \\\n",
    "             .map(lambda word: (word, 1)) \\\n",
    "             .reduceByKey(lambda a, b: a + b)\n",
    "print(counts)\n",
    "df_counts = spark.createDataFrame(counts)\n",
    "df_counts.show()"
   ]
  },
  {
   "cell_type": "code",
   "execution_count": 39,
   "metadata": {
    "collapsed": false
   },
   "outputs": [
    {
     "name": "stdout",
     "output_type": "stream",
     "text": [
      "+-----------------+\n",
      "|       avg(Price)|\n",
      "+-----------------+\n",
      "|275.0677317417774|\n",
      "+-----------------+\n",
      "\n",
      "+-------------------------------+-----------------+\n",
      "|to_date(purchases.`sales_date`)|      total_sales|\n",
      "+-------------------------------+-----------------+\n",
      "|                     2012-04-17|842.4700012207031|\n",
      "+-------------------------------+-----------------+\n",
      "\n",
      "+----------+\n",
      "|min(price)|\n",
      "+----------+\n",
      "|      0.38|\n",
      "+----------+\n",
      "\n",
      "+------------------------+\n",
      "|count(DISTINCT category)|\n",
      "+------------------------+\n",
      "|                      18|\n",
      "+------------------------+\n",
      "\n",
      "+--------------+-----------------+\n",
      "|store_location|      store_sales|\n",
      "+--------------+-----------------+\n",
      "|         Plano|784.9599838256836|\n",
      "+--------------+-----------------+\n",
      "\n"
     ]
    }
   ],
   "source": [
    "from datetime import datetime\n",
    "from pyspark.sql.types import *\n",
    "import re\n",
    "\n",
    "path = \"/Users/wadood/Library/Mobile Documents/com~apple~CloudDocs/Projects/DataSystems_COMS4121/csds-material/hive/\"\n",
    "fileName = path+\"purchases.txt\"\n",
    "schema = StructType([ \\\n",
    "                   StructField(\"sales_date\",DateType(),True),\\\n",
    "                   StructField(\"store_location\",StringType(),True),\\\n",
    "                   StructField(\"category\",StringType(),True),\\\n",
    "                   StructField(\"price\",FloatType(),True),\\\n",
    "                   StructField(\"card\",StringType(),True)\n",
    "                  ])\n",
    "rdd = sc.textFile(\"file:///\"+fileName)\\\n",
    "        .map(lambda x:x.split(',')) \\\n",
    "        .map(lambda x: (datetime.strptime(x[0],'%Y-%m-%d %H:%M:%S'),str(x[1]),str(x[2]),float(x[3]),str(x[4])))\n",
    " \n",
    "        \n",
    "df = sqlContext.createDataFrame(rdd,schema)\n",
    "df.registerTempTable(\"purchases\")\n",
    "#What is the average price of the products that were purchased via Mastercard? */\n",
    "qry=\"select avg(Price) from purchases where card='MasterCard'\"\n",
    "result=spark.sql(qry)\n",
    "result.show()\n",
    "\n",
    "#2. Which date recorded the highest total sales?\n",
    "qry =\"SELECT to_date(sales_date), SUM(price) AS total_sales FROM purchases GROUP BY to_date(sales_date) SORT BY total_sales DESC LIMIT 1\"\n",
    "result=spark.sql(qry)\n",
    "result.show()\n",
    "\n",
    "#3. What is the minimum value of a product under the Computers category? */\n",
    "qry =\"SELECT MIN(price) FROM purchases WHERE category='Computers'\"\n",
    "result=spark.sql(qry)\n",
    "result.show()\n",
    "\n",
    "#4. How many distinct categories of products are there? */\n",
    "qry =\"SELECT COUNT(DISTINCT category) FROM purchases\"\n",
    "result=spark.sql(qry)\n",
    "result.show()\n",
    "\n",
    "#5. Which store location had the lowest total sales? */\n",
    "qry =\"SELECT store_location, SUM(price) AS store_sales FROM purchases GROUP BY store_location ORDER BY store_sales LIMIT 1\"\n",
    "result=spark.sql(qry)\n",
    "result.show()\n"
   ]
  }
 ],
 "metadata": {
  "kernelspec": {
   "display_name": "Python [conda root]",
   "language": "python",
   "name": "conda-root-py"
  },
  "language_info": {
   "codemirror_mode": {
    "name": "ipython",
    "version": 3
   },
   "file_extension": ".py",
   "mimetype": "text/x-python",
   "name": "python",
   "nbconvert_exporter": "python",
   "pygments_lexer": "ipython3",
   "version": "3.5.2"
  }
 },
 "nbformat": 4,
 "nbformat_minor": 1
}
